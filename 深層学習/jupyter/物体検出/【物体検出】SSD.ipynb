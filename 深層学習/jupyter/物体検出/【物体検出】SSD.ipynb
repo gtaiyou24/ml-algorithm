{
 "cells": [
  {
   "cell_type": "markdown",
   "metadata": {},
   "source": [
    "# SSD(Single Shot MultiBox Detector)"
   ]
  },
  {
   "cell_type": "markdown",
   "metadata": {},
   "source": [
    " - [Deepに理解する深層学習による物体検出 by Keras - Qiita](https://qiita.com/GushiSnow/items/8c946208de0d6a4e31e7)\n",
    " - [【物体検出】SSD(Single Shot MultiBox Detector)の解説](https://www.acceluniverse.com/blog/developers/2020/02/SSD.html)\n",
    " - [ClothingDetection : 服装を検出する機械学習モデル - axinc - Medium](https://medium.com/axinc/clothingdetection-%E6%9C%8D%E8%A3%85%E3%82%92%E6%A4%9C%E5%87%BA%E3%81%99%E3%82%8B%E6%A9%9F%E6%A2%B0%E5%AD%A6%E7%BF%92%E3%83%A2%E3%83%87%E3%83%AB-e75cc8bc75b7)"
   ]
  },
  {
   "cell_type": "markdown",
   "metadata": {},
   "source": [
    "# データセット"
   ]
  },
  {
   "cell_type": "markdown",
   "metadata": {},
   "source": [
    " - [switchablenorms/DeepFashion2: DeepFashion2 Dataset https://arxiv.org/pdf/1901.07973.pdf](https://github.com/switchablenorms/DeepFashion2)\n",
    " - [eBay/modanet: ModaNet: A large-scale street fashion dataset with polygon annotations](https://github.com/eBay/modanet)"
   ]
  },
  {
   "cell_type": "code",
   "execution_count": null,
   "metadata": {},
   "outputs": [],
   "source": []
  }
 ],
 "metadata": {
  "kernelspec": {
   "display_name": "Python 3",
   "language": "python",
   "name": "python3"
  },
  "language_info": {
   "codemirror_mode": {
    "name": "ipython",
    "version": 3
   },
   "file_extension": ".py",
   "mimetype": "text/x-python",
   "name": "python",
   "nbconvert_exporter": "python",
   "pygments_lexer": "ipython3",
   "version": "3.7.2"
  },
  "toc": {
   "nav_menu": {},
   "number_sections": true,
   "sideBar": true,
   "skip_h1_title": false,
   "toc_cell": false,
   "toc_position": {},
   "toc_section_display": "block",
   "toc_window_display": false
  }
 },
 "nbformat": 4,
 "nbformat_minor": 2
}
